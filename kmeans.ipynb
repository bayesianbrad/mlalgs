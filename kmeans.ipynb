{
 "cells": [
  {
   "cell_type": "markdown",
   "metadata": {},
   "source": [
    "# K-means via Mckay\n",
    "\n",
    "## Hard K-Means"
   ]
  },
  {
   "cell_type": "code",
   "execution_count": 2,
   "metadata": {},
   "outputs": [],
   "source": [
    "import numpy as np\n",
    "import matplotlib.pyplot as plt\n",
    "import seaborn as sns\n",
    "import scipy.stats as ss\n",
    "import torch\n",
    "import torch.distributions as dist\n",
    "import warnings"
   ]
  },
  {
   "cell_type": "markdown",
   "metadata": {},
   "source": [
    "#### Generate data from a gaussian"
   ]
  },
  {
   "cell_type": "code",
   "execution_count": 111,
   "metadata": {},
   "outputs": [
    {
     "name": "stdout",
     "output_type": "stream",
     "text": [
      "[2, 1, 0, 3]\n",
      "[0.1724226492774551, 0.9527179008186666, 0.7323466341661276, 0.530540353293107]\n",
      "[[ 1.91696033 -1.43910113  0.21681411  2.61976759]\n",
      " [ 1.85833076  1.37626181  0.27059243  3.87625817]\n",
      " [ 2.26333649  2.20261508 -0.55817806  1.67549546]\n",
      " [ 2.08234526  1.48271673  0.43677536  2.84330592]\n",
      " [ 1.88626183  1.1349364  -0.22983652  3.13581372]\n",
      " [ 2.04578311  0.75828893  0.27709402  3.44744048]\n",
      " [ 2.13735624  1.89374662 -0.05418596  3.07097948]\n",
      " [ 2.17782701  3.0510036  -0.12188271  3.10298672]\n",
      " [ 2.08482493  1.03337444  0.30261517  2.51206892]\n",
      " [ 1.51631347  1.11865981 -0.04004408  2.99369862]]\n"
     ]
    }
   ],
   "source": [
    "N = 10 # number of data points in each cluster\n",
    "c = 4 # number of clusters  = c/2\n",
    "locs = [np.random.randint(0,2*c) for i in range(0,c)]\n",
    "scales = [np.random.uniform() for i in range(0,c)]\n",
    "samples = np.random.normal(loc=locs, scale=scales, size=(N, c))\n",
    "print(locs)\n",
    "print(scales)\n",
    "print(samples)"
   ]
  },
  {
   "cell_type": "code",
   "execution_count": 112,
   "metadata": {},
   "outputs": [
    {
     "data": {
      "text/plain": [
       "<matplotlib.legend.Legend at 0x12fca6ef0>"
      ]
     },
     "execution_count": 112,
     "metadata": {},
     "output_type": "execute_result"
    },
    {
     "data": {
      "image/png": "[encoded data removed]",
      "text/plain": [
       "<Figure size 432x288 with 1 Axes>"
      ]
     },
     "metadata": {
      "needs_background": "light"
     },
     "output_type": "display_data"
    }
   ],
   "source": [
    "count = 0\n",
    "for i in range(int(c/2)):\n",
    "    # plot [x_i, y_i] pairs of points\n",
    "    plt.scatter(samples[:,i+count], samples[:,i+1+count], label='cluster {}'.format(i))\n",
    "    count += 1\n",
    "plt.legend()"
   ]
  },
  {
   "cell_type": "code",
   "execution_count": null,
   "metadata": {},
   "outputs": [],
   "source": [
    "class kmeans():\n",
    "    \n",
    "    def __init__(self, tol=0.01, K=4, n_iterations=100):\n",
    "        self.tol = 0.01\n",
    "        self.K = K\n",
    "        self.n_iterations = n_iterations\n",
    "\n",
    "    \n",
    "    def fit(self,data=None):\n",
    "        if self.data:\n",
    "            # generate K initial means\n",
    "            self.means = np.zeros((self.K,2))\n",
    "            min_data = np.min(data)\n",
    "            max_data = np.max(data)\n",
    "            for i in range(self.K):\n",
    "                self.means[i] = np.random.uniform(min_data*0.99, max_data, 2) # 0.99 is just to include min in uniform sampling range\n",
    "        else:\n",
    "            warnings.warn('{0} Must supply data {0}'format(5*'*'))\n",
    "        \n",
    "        \n",
    "        for i in range(self.n_iterations):\n",
    "            # assigment step\n",
    "        \n",
    "            for datapoints in \n",
    "                k_hat = min(0.5*(data_point - self.means)**2) \n",
    "                \n",
    "        \n",
    "        \n"
   ]
  },
  {
   "cell_type": "code",
   "execution_count": 92,
   "metadata": {},
   "outputs": [
    {
     "data": {
      "text/plain": [
       "3"
      ]
     },
     "execution_count": 92,
     "metadata": {},
     "output_type": "execute_result"
    }
   ],
   "source": [
    "np.argmin(2 - np.array([1,2,3,4])) # this will return the given cluster k"
   ]
  },
  {
   "cell_type": "code",
   "execution_count": 129,
   "metadata": {},
   "outputs": [
    {
     "name": "stdout",
     "output_type": "stream",
     "text": [
      "[[0. 0. 0. 0.]]\n",
      "[3.03675885 4.7357332 ]\n",
      "[4.67235187 3.96304552]\n"
     ]
    }
   ],
   "source": [
    "data1 = np.array([[4.25503042, 5.44773185],[2.4,3.5]])\n",
    "K = 2\n",
    "min_data = np.min(data1)\n",
    "max_data = np.max(data1)\n",
    "means = np.zeros((1,data1.shape[1]*K))\n",
    "print(means)\n",
    "for i in range(K):\n",
    "    temp = np.random.uniform(min_data*0.99, max_data, 2) \n",
    "    print(temp)\n",
    "    means[0,i:i+2] = temp"
   ]
  },
  {
   "cell_type": "code",
   "execution_count": 133,
   "metadata": {},
   "outputs": [
    {
     "name": "stdout",
     "output_type": "stream",
     "text": [
      "[[3.03675885 4.67235187 3.96304552 0.        ]]\n"
     ]
    },
    {
     "ename": "ValueError",
     "evalue": "operands could not be broadcast together with shapes (2,) (4,) ",
     "output_type": "error",
     "traceback": [
      "\u001b[0;31m---------------------------------------------------------------------------\u001b[0m",
      "\u001b[0;31mValueError\u001b[0m                                Traceback (most recent call last)",
      "\u001b[0;32m<ipython-input-133-eb7bb27dc7ca>\u001b[0m in \u001b[0;36m<module>\u001b[0;34m\u001b[0m\n\u001b[1;32m      1\u001b[0m \u001b[0mprint\u001b[0m\u001b[0;34m(\u001b[0m\u001b[0mmeans\u001b[0m\u001b[0;34m)\u001b[0m\u001b[0;34m\u001b[0m\u001b[0;34m\u001b[0m\u001b[0m\n\u001b[0;32m----> 2\u001b[0;31m \u001b[0mprint\u001b[0m\u001b[0;34m(\u001b[0m\u001b[0mdata1\u001b[0m\u001b[0;34m[\u001b[0m\u001b[0;36m0\u001b[0m\u001b[0;34m,\u001b[0m\u001b[0;34m:\u001b[0m\u001b[0;34m]\u001b[0m\u001b[0;34m-\u001b[0m\u001b[0mmeans\u001b[0m\u001b[0;34m.\u001b[0m\u001b[0mflatten\u001b[0m\u001b[0;34m(\u001b[0m\u001b[0;34m)\u001b[0m\u001b[0;34m)\u001b[0m\u001b[0;34m\u001b[0m\u001b[0;34m\u001b[0m\u001b[0m\n\u001b[0m",
      "\u001b[0;31mValueError\u001b[0m: operands could not be broadcast together with shapes (2,) (4,) "
     ]
    }
   ],
   "source": [
    "print(means)\n",
    "print(data1[0,:]-means.flatten())"
   ]
  },
  {
   "cell_type": "markdown",
   "metadata": {},
   "source": [
    "data1 - means"
   ]
  },
  {
   "cell_type": "markdown",
   "metadata": {},
   "source": [
    "When passing data into fit, ensure stacked as $ nrows \\times 2$,  whilst the columns doesn't have to be fixed to 2, that is what we assume for now"
   ]
  },
  {
   "cell_type": "code",
   "execution_count": 116,
   "metadata": {},
   "outputs": [
    {
     "name": "stdout",
     "output_type": "stream",
     "text": [
      "-1.4391011260246254\n"
     ]
    }
   ],
   "source": [
    "samples = samples.reshape(-1,2) \n",
    "#[[x00, y00],\n",
    "#[x10, y10],\n",
    "# ....\n",
    "#[xk0, yk0],\n",
    "#[01, y01],\n",
    "# ....\n",
    "#[xk1, yk1],\n",
    "# ....\n",
    "#[xkN, yKN]]] \n",
    "samples\n",
    "print(np.min(samples))"
   ]
  },
  {
   "cell_type": "code",
   "execution_count": 8,
   "metadata": {},
   "outputs": [],
   "source": [
    "A = np.array([[2,4],[1,3],[0,0],[0,0]])\n",
    "W = A.T@A"
   ]
  },
  {
   "cell_type": "code",
   "execution_count": 16,
   "metadata": {},
   "outputs": [
    {
     "data": {
      "text/plain": [
       "array([0.36596619, 5.4649857 ])"
      ]
     },
     "execution_count": 16,
     "metadata": {},
     "output_type": "execute_result"
    }
   ],
   "source": [
    "np.sqrt(np.linalg.eigvals(W))"
   ]
  },
  {
   "cell_type": "code",
   "execution_count": 13,
   "metadata": {},
   "outputs": [],
   "source": [
    "sigmas, V = np.linalg.eig(W)"
   ]
  },
  {
   "cell_type": "code",
   "execution_count": 14,
   "metadata": {},
   "outputs": [
    {
     "name": "stdout",
     "output_type": "stream",
     "text": [
      "[ 0.13393125 29.86606875]\n"
     ]
    }
   ],
   "source": [
    "print(sigmas)"
   ]
  },
  {
   "cell_type": "code",
   "execution_count": 15,
   "metadata": {},
   "outputs": [
    {
     "name": "stdout",
     "output_type": "stream",
     "text": [
      "[[-0.9145143  -0.40455358]\n",
      " [ 0.40455358 -0.9145143 ]]\n"
     ]
    }
   ],
   "source": [
    "print(V)"
   ]
  },
  {
   "cell_type": "code",
   "execution_count": 17,
   "metadata": {},
   "outputs": [],
   "source": [
    "U, Sigma, V = np.linalg.svd(A)"
   ]
  },
  {
   "cell_type": "code",
   "execution_count": 18,
   "metadata": {},
   "outputs": [
    {
     "data": {
      "text/plain": [
       "array([[-0.81741556, -0.57604844,  0.        ,  0.        ],\n",
       "       [-0.57604844,  0.81741556,  0.        ,  0.        ],\n",
       "       [ 0.        ,  0.        ,  1.        ,  0.        ],\n",
       "       [ 0.        ,  0.        ,  0.        ,  1.        ]])"
      ]
     },
     "execution_count": 18,
     "metadata": {},
     "output_type": "execute_result"
    }
   ],
   "source": [
    "U"
   ]
  },
  {
   "cell_type": "code",
   "execution_count": 19,
   "metadata": {},
   "outputs": [
    {
     "data": {
      "text/plain": [
       "array([5.4649857 , 0.36596619])"
      ]
     },
     "execution_count": 19,
     "metadata": {},
     "output_type": "execute_result"
    }
   ],
   "source": [
    "Sigma"
   ]
  },
  {
   "cell_type": "code",
   "execution_count": 22,
   "metadata": {},
   "outputs": [],
   "source": [
    "A2  = np.array([[-12,12,2],[12,-12,-2],[2,-2,-17]])"
   ]
  },
  {
   "cell_type": "code",
   "execution_count": 23,
   "metadata": {},
   "outputs": [
    {
     "data": {
      "text/plain": [
       "(array([-3.55271368e-15, -2.50000000e+01, -1.60000000e+01]),\n",
       " array([[-7.07106781e-01, -6.66666667e-01,  2.35702260e-01],\n",
       "        [-7.07106781e-01,  6.66666667e-01, -2.35702260e-01],\n",
       "        [ 1.82145965e-17,  3.33333333e-01,  9.42809042e-01]]))"
      ]
     },
     "execution_count": 23,
     "metadata": {},
     "output_type": "execute_result"
    }
   ],
   "source": [
    "np.linalg.eig(A2)"
   ]
  },
  {
   "cell_type": "code",
   "execution_count": 24,
   "metadata": {},
   "outputs": [
    {
     "data": {
      "text/plain": [
       "0.23570226039551587"
      ]
     },
     "execution_count": 24,
     "metadata": {},
     "output_type": "execute_result"
    }
   ],
   "source": [
    "1/np.sqrt(18)"
   ]
  },
  {
   "cell_type": "code",
   "execution_count": null,
   "metadata": {},
   "outputs": [],
   "source": [
    "1/np."
   ]
  }
 ],
 "metadata": {
  "kernelspec": {
   "display_name": "Python 3",
   "language": "python",
   "name": "python3"
  },
  "language_info": {
   "codemirror_mode": {
    "name": "ipython",
    "version": 3
   },
   "file_extension": ".py",
   "mimetype": "text/x-python",
   "name": "python",
   "nbconvert_exporter": "python",
   "pygments_lexer": "ipython3",
   "version": "3.7.3"
  }
 },
 "nbformat": 4,
 "nbformat_minor": 2
}
